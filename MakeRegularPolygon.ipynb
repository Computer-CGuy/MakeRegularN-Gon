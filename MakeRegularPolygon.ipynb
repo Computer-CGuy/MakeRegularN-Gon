{
  "nbformat": 4,
  "nbformat_minor": 0,
  "metadata": {
    "colab": {
      "name": "MakeRegularPolygon.ipynb",
      "provenance": []
    },
    "kernelspec": {
      "name": "python3",
      "display_name": "Python 3"
    }
  },
  "cells": [
    {
      "cell_type": "code",
      "metadata": {
        "id": "j7H4_NCvJSIE",
        "colab_type": "code",
        "outputId": "44af8023-f926-4aaa-e847-88497545917b",
        "colab": {
          "base_uri": "https://localhost:8080/",
          "height": 617
        }
      },
      "source": [
        "import cv2\n",
        "import numpy as np\n",
        "from google.colab.patches import cv2_imshow\n",
        "import math\n",
        "img = np.zeros((600, 600, 1))\n",
        "img[:]=(25)\n",
        "center = [100,200]\n",
        "#img = cv2.line(img,(200,200),(100,100),255)\n",
        "#cv2_imshow(img)\n",
        "img[:] = 255\n",
        "\n",
        "def line(x, y, t):\n",
        "  global img\n",
        "  t += math.pi /2\n",
        "  j, g = y\n",
        "  d = 100\n",
        "  h = math.cos(t)*d + g\n",
        "  k = math.sin(t)*d + j\n",
        "  \n",
        "  #ibmg = cv2.line(img, (x), (y), 0)\n",
        "  #cv2_imshow(img)\n",
        "  #img = cv2.line(img, (y), (int(k),int(h)), 0)\n",
        "  return int(k),int(h)\n",
        "#line((0,0), (200, 200), math.radians(45))\n",
        "\n",
        "def mfig(n):\n",
        "  global img\n",
        "  h = 0\n",
        "  k = 0\n",
        "  for x in range(n+1):\n",
        "    p,q = line((0,0), (200, 200), math.radians(x*(360/n)))\n",
        "    if(h!=0):\n",
        "      img = cv2.line(img, (h,k), (int(p),int(q)), 0)\n",
        "    h,k = p,q\n",
        "    #img = cv2.line(img, )\n",
        "mfig(10)\n",
        "cv2_imshow(img)"
      ],
      "execution_count": 0,
      "outputs": [
        {
          "output_type": "display_data",
          "data": {
            "image/png": "[encoded data removed]",
            "text/plain": [
              "<PIL.Image.Image image mode=RGB size=600x600 at 0x7F585EA2DD30>"
            ]
          },
          "metadata": {
            "tags": []
          }
        }
      ]
    }
  ]
}